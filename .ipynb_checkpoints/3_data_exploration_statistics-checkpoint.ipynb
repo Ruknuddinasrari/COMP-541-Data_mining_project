{
 "cells": [
  {
   "cell_type": "code",
   "execution_count": null,
   "id": "bd44f00a",
   "metadata": {},
   "outputs": [],
   "source": [
    "import datetime\n",
    "import numpy as np\n",
    "import numpy.ma as ma\n",
    "from numpy import genfromtxt\n",
    "from collections import defaultdict\n",
    "import pandas as pd\n",
    "from sklearn.preprocessing import StandardScaler, MinMaxScaler\n",
    "from sklearn.model_selection import train_test_split\n",
    "import tabulate\n",
    "pd.set_option(\"display.precision\", 1)\n",
    "\n",
    "from IPython.display import display\n",
    "import matplotlib.pyplot as plt\n",
    "from tqdm.notebook import tqdm\n",
    "\n",
    "%run preprocessing_functions.ipynb"
   ]
  },
  {
   "cell_type": "code",
   "execution_count": null,
   "id": "d7605ac7",
   "metadata": {},
   "outputs": [],
   "source": [
    "# Load the CSV file into a DataFrame (replace 'your_file.csv' with the actual file path)\n",
    "# AVOID using these, use the copy versions instead\n",
    "df_user = pd.read_csv(r'.\\datasets\\ml-latest-small\\ratings.csv')\n",
    "df_movie = pd.read_csv(r'.\\datasets\\ml-latest-small\\movies.csv')\n",
    "df_links = pd.read_csv(r'.\\datasets\\ml-latest-small\\links.csv')\n",
    "df_tags = pd.read_csv(r'.\\datasets\\ml-latest-small\\tags.csv')"
   ]
  },
  {
   "cell_type": "markdown",
   "id": "23672ca0",
   "metadata": {},
   "source": [
    "## 1 - Central Tendency Measures"
   ]
  },
  {
   "cell_type": "code",
   "execution_count": null,
   "id": "3337fb93",
   "metadata": {},
   "outputs": [],
   "source": [
    "df_user_copy = df_user.copy()\n",
    "df_movie_copy = df_movie.copy()\n",
    "df_links_copy = df_links.copy()\n",
    "df_tags_copy = df_tags.copy()\n"
   ]
  },
  {
   "cell_type": "markdown",
   "id": "b7241658",
   "metadata": {},
   "source": [
    "## 2 - Dispersion Measures"
   ]
  },
  {
   "cell_type": "code",
   "execution_count": null,
   "id": "40d3e92a",
   "metadata": {},
   "outputs": [],
   "source": [
    "df_user_copy = df_user.copy()\n",
    "df_movie_copy = df_movie.copy()\n",
    "df_links_copy = df_links.copy()\n",
    "df_tags_copy = df_tags.copy()\n"
   ]
  },
  {
   "cell_type": "markdown",
   "id": "22d80e4f",
   "metadata": {},
   "source": [
    "## 3 - Skewness"
   ]
  },
  {
   "cell_type": "code",
   "execution_count": null,
   "id": "d55de8e0",
   "metadata": {},
   "outputs": [],
   "source": [
    "df_user_copy = df_user.copy()\n",
    "df_movie_copy = df_movie.copy()\n",
    "df_links_copy = df_links.copy()\n",
    "df_tags_copy = df_tags.copy()\n"
   ]
  },
  {
   "cell_type": "markdown",
   "id": "36428154",
   "metadata": {},
   "source": [
    "## 4 - Class Imbalanced"
   ]
  },
  {
   "cell_type": "code",
   "execution_count": null,
   "id": "3476b186",
   "metadata": {},
   "outputs": [],
   "source": [
    "df_user_copy = df_user.copy()\n",
    "df_movie_copy = df_movie.copy()\n",
    "df_links_copy = df_links.copy()\n",
    "df_tags_copy = df_tags.copy()\n"
   ]
  },
  {
   "cell_type": "markdown",
   "id": "fa57197b",
   "metadata": {},
   "source": [
    "## 5 - Correlation"
   ]
  },
  {
   "cell_type": "code",
   "execution_count": null,
   "id": "1f989c2f",
   "metadata": {},
   "outputs": [],
   "source": [
    "df_user_copy = df_user.copy()\n",
    "df_movie_copy = df_movie.copy()\n",
    "df_links_copy = df_links.copy()\n",
    "df_tags_copy = df_tags.copy()\n"
   ]
  }
 ],
 "metadata": {
  "kernelspec": {
   "display_name": "Python 3 (ipykernel)",
   "language": "python",
   "name": "python3"
  },
  "language_info": {
   "codemirror_mode": {
    "name": "ipython",
    "version": 3
   },
   "file_extension": ".py",
   "mimetype": "text/x-python",
   "name": "python",
   "nbconvert_exporter": "python",
   "pygments_lexer": "ipython3",
   "version": "3.9.12"
  }
 },
 "nbformat": 4,
 "nbformat_minor": 5
}
