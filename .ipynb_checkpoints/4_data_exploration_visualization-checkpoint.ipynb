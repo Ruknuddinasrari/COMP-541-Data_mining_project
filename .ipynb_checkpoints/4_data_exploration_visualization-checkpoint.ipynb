{
 "cells": [
  {
   "cell_type": "code",
   "execution_count": 1,
   "id": "39ac6ad7",
   "metadata": {},
   "outputs": [],
   "source": [
    "import datetime\n",
    "import numpy as np\n",
    "import numpy.ma as ma\n",
    "from numpy import genfromtxt\n",
    "from collections import defaultdict\n",
    "import pandas as pd\n",
    "from sklearn.preprocessing import StandardScaler, MinMaxScaler\n",
    "from sklearn.model_selection import train_test_split\n",
    "import tabulate\n",
    "pd.set_option(\"display.precision\", 1)\n",
    "\n",
    "from IPython.display import display\n",
    "import matplotlib.pyplot as plt\n",
    "from tqdm.notebook import tqdm\n",
    "\n",
    "%run preprocessing_functions.ipynb"
   ]
  },
  {
   "cell_type": "code",
   "execution_count": null,
   "id": "c1407b0e",
   "metadata": {},
   "outputs": [],
   "source": [
    "# Load the CSV file into a DataFrame (replace 'your_file.csv' with the actual file path)\n",
    "# AVOID using these, use the copy versions instead\n",
    "df_user = pd.read_csv(r'.\\datasets\\ml-latest-small\\ratings.csv')\n",
    "df_movie = pd.read_csv(r'.\\datasets\\ml-latest-small\\movies.csv')\n",
    "df_links = pd.read_csv(r'.\\datasets\\ml-latest-small\\links.csv')\n",
    "df_tags = pd.read_csv(r'.\\datasets\\ml-latest-small\\tags.csv')"
   ]
  },
  {
   "cell_type": "code",
   "execution_count": null,
   "id": "b9574a55",
   "metadata": {},
   "outputs": [],
   "source": [
    "df_user_copy = df_user.copy()\n",
    "df_movie_copy = df_movie.copy()\n",
    "df_links_copy = df_links.copy()\n",
    "df_tags_copy = df_tags.copy()\n"
   ]
  },
  {
   "cell_type": "code",
   "execution_count": null,
   "id": "ca21fe45",
   "metadata": {},
   "outputs": [],
   "source": [
    "df_user_copy = df_user.copy()\n",
    "df_movie_copy = df_movie.copy()\n",
    "df_links_copy = df_links.copy()\n",
    "df_tags_copy = df_tags.copy()\n"
   ]
  },
  {
   "cell_type": "code",
   "execution_count": null,
   "id": "02c20a1b",
   "metadata": {},
   "outputs": [],
   "source": [
    "df_user_copy = df_user.copy()\n",
    "df_movie_copy = df_movie.copy()\n",
    "df_links_copy = df_links.copy()\n",
    "df_tags_copy = df_tags.copy()\n"
   ]
  },
  {
   "cell_type": "code",
   "execution_count": null,
   "id": "3d12213c",
   "metadata": {},
   "outputs": [],
   "source": [
    "df_user_copy = df_user.copy()\n",
    "df_movie_copy = df_movie.copy()\n",
    "df_links_copy = df_links.copy()\n",
    "df_tags_copy = df_tags.copy()\n"
   ]
  }
 ],
 "metadata": {
  "kernelspec": {
   "display_name": "Python 3 (ipykernel)",
   "language": "python",
   "name": "python3"
  },
  "language_info": {
   "codemirror_mode": {
    "name": "ipython",
    "version": 3
   },
   "file_extension": ".py",
   "mimetype": "text/x-python",
   "name": "python",
   "nbconvert_exporter": "python",
   "pygments_lexer": "ipython3",
   "version": "3.9.12"
  }
 },
 "nbformat": 4,
 "nbformat_minor": 5
}
