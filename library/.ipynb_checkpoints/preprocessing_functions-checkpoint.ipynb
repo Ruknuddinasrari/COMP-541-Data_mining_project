{
 "cells": [
  {
   "cell_type": "code",
   "execution_count": null,
   "id": "7e6a36f0",
   "metadata": {},
   "outputs": [],
   "source": [
    "import numpy as np\n",
    "import numpy.ma as ma\n",
    "from numpy import genfromtxt\n",
    "from collections import defaultdict\n",
    "import pandas as pd\n",
    "import tensorflow as tf\n",
    "from tensorflow import keras\n",
    "from sklearn.preprocessing import StandardScaler, MinMaxScaler\n",
    "from sklearn.model_selection import train_test_split\n",
    "import tabulate\n",
    "pd.set_option(\"display.precision\", 1)\n",
    "\n",
    "from IPython.display import display\n",
    "import matplotlib.pyplot as plt\n",
    "from tqdm.notebook import tqdm"
   ]
  },
  {
   "cell_type": "code",
   "execution_count": null,
   "id": "85e92364",
   "metadata": {},
   "outputs": [],
   "source": [
    "# Functions\n",
    "\n",
    "def onehot_encode_movies(df_movie):\n",
    "    # Perform one-hot encoding of genres\n",
    "    df_movie_encoded = df_movie['genres'].str.get_dummies('|')\n",
    "    df_movie_copy[['title', 'year']] = df_movie_copy['title'].str.extract(r'^(.*?)\\s\\((\\d{4})\\)$')\n",
    "\n",
    "    df_movie_copy = df_movie_copy.drop(\"genres\", axis=1)\n",
    "    df_movie_copy = df_movie_copy.drop(\"title\", axis=1)\n",
    "\n",
    "    # Filter out the \"(no genres listed)\" column\n",
    "    if \"(no genres listed)\" in df_movie_encoded:\n",
    "        df_movie_encoded = df_movie_encoded.drop(\"(no genres listed)\", axis=1);\n",
    "\n",
    "    # Join the one-hot encoded genres back to the original DataFrame\n",
    "    df_movie_final = df_movie_copy.join(df_movie_encoded)\n",
    "    return df_movie_final"
   ]
  }
 ],
 "metadata": {
  "kernelspec": {
   "display_name": "Python 3 (ipykernel)",
   "language": "python",
   "name": "python3"
  },
  "language_info": {
   "codemirror_mode": {
    "name": "ipython",
    "version": 3
   },
   "file_extension": ".py",
   "mimetype": "text/x-python",
   "name": "python",
   "nbconvert_exporter": "python",
   "pygments_lexer": "ipython3",
   "version": "3.9.12"
  }
 },
 "nbformat": 4,
 "nbformat_minor": 5
}
